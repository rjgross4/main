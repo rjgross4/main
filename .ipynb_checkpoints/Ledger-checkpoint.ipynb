{
 "cells": [
  {
   "cell_type": "code",
   "execution_count": 51,
   "metadata": {},
   "outputs": [
    {
     "name": "stdout",
     "output_type": "stream",
     "text": [
      "0.05\n",
      "0.06\n"
     ]
    },
    {
     "ename": "TypeError",
     "evalue": "'>' not supported between instances of 'int' and 'tuple'",
     "output_type": "error",
     "traceback": [
      "\u001b[1;31m---------------------------------------------------------------------------\u001b[0m",
      "\u001b[1;31mTypeError\u001b[0m                                 Traceback (most recent call last)",
      "\u001b[1;32m<ipython-input-51-28471b7671f0>\u001b[0m in \u001b[0;36m<module>\u001b[1;34m()\u001b[0m\n\u001b[0;32m     33\u001b[0m \u001b[1;33m\u001b[0m\u001b[0m\n\u001b[0;32m     34\u001b[0m \u001b[1;33m\u001b[0m\u001b[0m\n\u001b[1;32m---> 35\u001b[1;33m \u001b[0mmax\u001b[0m\u001b[1;33m(\u001b[0m\u001b[0msales\u001b[0m\u001b[1;33m.\u001b[0m\u001b[0mitems\u001b[0m\u001b[1;33m(\u001b[0m\u001b[1;33m)\u001b[0m\u001b[1;33m,\u001b[0m \u001b[0mkey\u001b[0m\u001b[1;33m=\u001b[0m\u001b[0moperator\u001b[0m\u001b[1;33m.\u001b[0m\u001b[0mitemgetter\u001b[0m\u001b[1;33m(\u001b[0m\u001b[1;36m1\u001b[0m\u001b[1;33m)\u001b[0m\u001b[1;33m)\u001b[0m\u001b[1;33m[\u001b[0m\u001b[1;36m0\u001b[0m\u001b[1;33m]\u001b[0m\u001b[1;33m\u001b[0m\u001b[0m\n\u001b[0m",
      "\u001b[1;31mTypeError\u001b[0m: '>' not supported between instances of 'int' and 'tuple'"
     ]
    }
   ],
   "source": [
    "class ledger():\n",
    "    import operator\n",
    "    global sales\n",
    "    global purchases\n",
    "    \n",
    "    sales = {.05:50}\n",
    "    purchases = {.05:[(100,'steve','222'),(25,'bob','133')],.06:[200,'gordon','211']}\n",
    "    \n",
    "    def __init__(self):\n",
    "        pass\n",
    "    \n",
    "    def create_sale(self,username, wallet_id,minimum_price,quantity):\n",
    "        #First attempt a match then post to ledger\n",
    "        transaction_book = []\n",
    "        #Look at all purchases in the ledger and find whoever is willing to pay the most\n",
    "        #Add it to transaction book then delete it and repeat the operation until we have full amt\n",
    "#         for x in purchases.items():\n",
    "#             if x[0] >=\n",
    "            \n",
    "        \n",
    "        \n",
    "        sales[minimum_price] = quantity\n",
    "        print(sales)\n",
    "\n",
    "        \n",
    "# myvar = ledger().create_sale('rich','256'.1,500)\n",
    "# myvar\n",
    "test = []\n",
    "sales = {.05:[(100,'steve','222'),(25,'bob','133')],.06:[200,'gordon','211']}\n",
    "for x in sales.items():\n",
    "    print(x[0])\n",
    "import operator\n",
    "\n",
    "\n",
    "max(sales.items(), key=operator.itemgetter(1))[0]"
   ]
  },
  {
   "cell_type": "code",
   "execution_count": null,
   "metadata": {
    "collapsed": true
   },
   "outputs": [],
   "source": []
  }
 ],
 "metadata": {
  "kernelspec": {
   "display_name": "Python 3",
   "language": "python",
   "name": "python3"
  },
  "language_info": {
   "codemirror_mode": {
    "name": "ipython",
    "version": 3
   },
   "file_extension": ".py",
   "mimetype": "text/x-python",
   "name": "python",
   "nbconvert_exporter": "python",
   "pygments_lexer": "ipython3",
   "version": "3.6.3"
  }
 },
 "nbformat": 4,
 "nbformat_minor": 2
}
